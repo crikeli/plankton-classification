{
 "cells": [
  {
   "cell_type": "markdown",
   "metadata": {},
   "source": [
    "# Below is the full code for pt1 of classifying plankton using deep learning.\n",
    "\n",
    "### Training Data Exploration"
   ]
  },
  {
   "cell_type": "code",
   "execution_count": 1,
   "metadata": {
    "collapsed": false
   },
   "outputs": [],
   "source": [
    "%pwd"
   ]
  },
  {
   "cell_type": "code",
   "execution_count": 2,
   "metadata": {
    "collapsed": true
   },
   "outputs": [],
   "source": [
    "import os, sys\n",
    "current_dir = os.getcwd()\n",
    "nb_dir = current_dir\n",
    "data_dir = current_dir + '/data/plankton/'"
   ]
  },
  {
   "cell_type": "code",
   "execution_count": 3,
   "metadata": {
    "collapsed": true
   },
   "outputs": [],
   "source": [
    "#To carry out matrix manipulations.\n",
    "import numpy as np\n",
    "# To plot images and visualize data.\n",
    "from matplotlib import pyplot as plt\n",
    "# To access files that reside in similar paths effortlessly.\n",
    "from glob import glob\n",
    "# Importing the Python Imaging Library.\n",
    "import PIL\n",
    "# A PIL module that allows to open, rotate and display images.\n",
    "from PIL import Image\n",
    "# A PIL module that allows for performing image processing operations.\n",
    "from PIL import ImageOps\n",
    "# importing imshow to diplay images, imshow to save an image.\n",
    "from skimage.io import imread, imshow\n",
    "# importing color mapping from python.\n",
    "from pylab import cm\n",
    "# importing glob\n",
    "import glob\n",
    "# This allows us to view matplot lib plots in the jupyter notebook\n",
    "%matplotlib inline"
   ]
  },
  {
   "cell_type": "code",
   "execution_count": 4,
   "metadata": {
    "collapsed": false
   },
   "outputs": [],
   "source": [
    "%cd $data_dir/train"
   ]
  },
  {
   "cell_type": "code",
   "execution_count": 5,
   "metadata": {
    "collapsed": true
   },
   "outputs": [],
   "source": [
    "directory_names = os.listdir(data_dir+\"train\")"
   ]
  },
  {
   "cell_type": "code",
   "execution_count": 6,
   "metadata": {
    "collapsed": false
   },
   "outputs": [],
   "source": [
    "# Here are the first five directory names, it may vary for you...\n",
    "directory_names[1:6]"
   ]
  },
  {
   "cell_type": "code",
   "execution_count": 7,
   "metadata": {
    "collapsed": false
   },
   "outputs": [],
   "source": [
    "# The number of categries we are supposed to classify...\n",
    "print(\"There are {} folders.\").format(len(directory_names))"
   ]
  },
  {
   "cell_type": "code",
   "execution_count": 8,
   "metadata": {
    "collapsed": true
   },
   "outputs": [],
   "source": [
    "# The below will tell you how many files are there in all the folders combined.\n",
    "numberofImages = 0\n",
    "for folder in directory_names:\n",
    "    for fileNameDir in os.walk(os.path.join(data_dir+\"train\", folder)):\n",
    "        for fileName in fileNameDir[2]:\n",
    "             # Only read in the images\n",
    "            if fileName[-4:] != \".jpg\":\n",
    "              continue\n",
    "            numberofImages += 1\n",
    "\n",
    "# You should see There are a total of 30336 training images upon running this bit of code.\n",
    "print(\"There are a total of {} training images\").format(numberofImages)"
   ]
  },
  {
   "cell_type": "code",
   "execution_count": 9,
   "metadata": {
    "collapsed": true
   },
   "outputs": [],
   "source": [
    "# A very important thing to note is that upon running this block of code, you will find that the sizes of each image\n",
    "# is varying.\n",
    "for i in xrange(5):\n",
    "    example_file = glob.glob(os.path.join(data_dir+\"train\", directory_names[i],'*.jpg'))[8]\n",
    "    im = imread(example_file)\n",
    "    plt.imshow(im, cmap=cm.gray)\n",
    "    print(example_file)\n",
    "    plt.show()"
   ]
  },
  {
   "cell_type": "markdown",
   "metadata": {},
   "source": [
    "### Validation Data Creation"
   ]
  },
  {
   "cell_type": "code",
   "execution_count": 10,
   "metadata": {
    "collapsed": true
   },
   "outputs": [],
   "source": [
    "# The next step would be to to seperate validation data and plot it...\n",
    "# We create a folder that contains validation data...\n",
    "%mkdir ../valid\n",
    "\n",
    "# We create the same folders from the training data within the validation data\n",
    "for d in directory_names:\n",
    "    os.mkdir('../valid/'+d)"
   ]
  },
  {
   "cell_type": "code",
   "execution_count": 11,
   "metadata": {
    "collapsed": false
   },
   "outputs": [],
   "source": [
    "g = glob.glob('*/*.jpg')\n",
    "# We shuffle all the image files, so that we have a random order of images...\n",
    "shuf = np.random.permutation(g)\n",
    "# This is the first image after our random shuffle...\n",
    "im = imread(shuf[0])\n",
    "plt.imshow(im, cmap=cm.gray)\n",
    "print(shuf[0])\n",
    "plt.show()"
   ]
  },
  {
   "cell_type": "code",
   "execution_count": 12,
   "metadata": {
    "collapsed": true
   },
   "outputs": [],
   "source": [
    "for i in range(6067):\n",
    "    os.rename(shuf[i], data_dir+'valid/'+shuf[i])\n",
    "print(\"Done moving images to the validation set...\")"
   ]
  },
  {
   "cell_type": "code",
   "execution_count": 13,
   "metadata": {
    "collapsed": true
   },
   "outputs": [],
   "source": [
    "numberofImages = 0\n",
    "for folder in directory_names:\n",
    "    for fileNameDir in os.walk(os.path.join(data_dir+\"valid\", folder)):\n",
    "        for fileName in fileNameDir[2]:\n",
    "            if fileName[-4:] != \".jpg\":\n",
    "              continue\n",
    "            numberofImages += 1\n",
    "\n",
    "print(numberofImages)"
   ]
  },
  {
   "cell_type": "markdown",
   "metadata": {},
   "source": [
    "### Visualizing Training Data"
   ]
  },
  {
   "cell_type": "code",
   "execution_count": 14,
   "metadata": {
    "collapsed": false
   },
   "outputs": [],
   "source": [
    "for i in xrange(5):\n",
    "    example_file = glob.glob(os.path.join(data_dir+\"train\", directory_names[i],'*.jpg'))[8]\n",
    "    im = imread(example_file)\n",
    "    plt.imshow(im, cmap=cm.gray)\n",
    "    print(example_file)\n",
    "    plt.show()"
   ]
  },
  {
   "cell_type": "markdown",
   "metadata": {},
   "source": [
    "### Resizing all training, validation and test images so they are uniform."
   ]
  },
  {
   "cell_type": "code",
   "execution_count": 15,
   "metadata": {
    "collapsed": true
   },
   "outputs": [],
   "source": [
    "def resize_save_image(image_path):\n",
    "    # Opening image and retrieving its array\n",
    "    image_array = np.asarray(Image.open(image_path))\n",
    "    \n",
    "    image_shape = image_array.shape\n",
    "    \n",
    "    # determining the padding of images so that the plankton are more or less centered\n",
    "    if image_shape[0] > image_shape[1]:\n",
    "        padH = int((image_shape[0] - image_shape[0]) / 2)\n",
    "        padV = 0\n",
    "        \n",
    "    if image_shape[1] > image_shape[0]:\n",
    "        padH = 0\n",
    "        padV = int((image_shape[1] - image_shape[0]) / 2)\n",
    "    \n",
    "    if image_shape[1] == image_shape[0]:\n",
    "        padH = 0\n",
    "        padV = 0\n",
    "    \n",
    "    # Padding the array with white color(px value 255) according to the above\n",
    "    # trigerred parameters of padV and padH\n",
    "    padded_array = np.pad(image_array, ((padV, padV), (padH, padH)), mode='constant', constant_values=255)\n",
    "    \n",
    "    # The array is converted back to an image\n",
    "    img = Image.fromarray(padded_array, 'L')\n",
    "    \n",
    "    # The image is resized to a square depending on the greated length side.\n",
    "    square = (np.max(image_array.shape))\n",
    "    img = img.resize((square, square))\n",
    "    \n",
    "    # Image is saved to the same path where it was retrieved from.\n",
    "    img.save(image_path)"
   ]
  },
  {
   "cell_type": "code",
   "execution_count": 16,
   "metadata": {
    "collapsed": true
   },
   "outputs": [],
   "source": [
    "# We traverse through all the directories and images and resize the trainng data\n",
    "for folder in directory_names:\n",
    "    os.chdir(data_dir+'train/'+folder)\n",
    "    g = glob.glob('*.jpg')\n",
    "    for image_path in g:\n",
    "        resize_save_image(image_path)"
   ]
  },
  {
   "cell_type": "code",
   "execution_count": 17,
   "metadata": {
    "collapsed": false
   },
   "outputs": [],
   "source": [
    "# Some resized training images...\n",
    "for i in xrange(5):\n",
    "    example_file = glob.glob(os.path.join(data_dir+\"train\", directory_names[i],'*.jpg'))[8]\n",
    "    im = imread(example_file)\n",
    "    plt.imshow(im, cmap=cm.gray)\n",
    "    print(example_file)\n",
    "    plt.show()"
   ]
  },
  {
   "cell_type": "code",
   "execution_count": 18,
   "metadata": {
    "collapsed": true
   },
   "outputs": [],
   "source": [
    "# Resizing the validation images\n",
    "for folder in directory_names:\n",
    "    os.chdir(data_dir+'valid/'+folder)\n",
    "    g = glob.glob('*.jpg')\n",
    "    for image_path in g:\n",
    "        resize_save_image(image_path)"
   ]
  },
  {
   "cell_type": "code",
   "execution_count": 19,
   "metadata": {
    "collapsed": false
   },
   "outputs": [],
   "source": [
    "for i in xrange(5):\n",
    "    example_file = glob.glob(os.path.join(data_dir+\"valid\", directory_names[i],'*.jpg'))[2]\n",
    "    im = imread(example_file)\n",
    "    plt.imshow(im, cmap=cm.gray)\n",
    "    print(example_file)\n",
    "    plt.show()"
   ]
  },
  {
   "cell_type": "code",
   "execution_count": 20,
   "metadata": {
    "collapsed": false
   },
   "outputs": [],
   "source": [
    "# Resizing testing images...\n",
    "# Since this contains > 130,000 images, it will take a while to run...\n",
    "os.chdir(data_dir+'test/')\n",
    "g = glob.glob('*.jpg')\n",
    "for image_path in g:\n",
    "    resize_save_image(image_path)"
   ]
  },
  {
   "cell_type": "code",
   "execution_count": 21,
   "metadata": {
    "collapsed": false
   },
   "outputs": [],
   "source": [
    "# Visualize the test data\n",
    "for i in xrange(5):\n",
    "    example_file = os.path.join(data_dir+\"test/\", g[i])\n",
    "    im = imread(example_file)\n",
    "    plt.imshow(im, cmap=cm.gray)\n",
    "    print(example_file)\n",
    "    plt.show()"
   ]
  },
  {
   "cell_type": "markdown",
   "metadata": {},
   "source": [
    "### Part two of my blogpost will be expanding on this notebook..."
   ]
  },
  {
   "cell_type": "code",
   "execution_count": null,
   "metadata": {
    "collapsed": true
   },
   "outputs": [],
   "source": []
  }
 ],
 "metadata": {
  "anaconda-cloud": {},
  "kernelspec": {
   "display_name": "Python [conda root]",
   "language": "python",
   "name": "conda-root-py"
  },
  "language_info": {
   "codemirror_mode": {
    "name": "ipython",
    "version": 2
   },
   "file_extension": ".py",
   "mimetype": "text/x-python",
   "name": "python",
   "nbconvert_exporter": "python",
   "pygments_lexer": "ipython2",
   "version": "2.7.12"
  }
 },
 "nbformat": 4,
 "nbformat_minor": 1
}
