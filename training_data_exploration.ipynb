{
 "cells": [
  {
   "cell_type": "markdown",
   "metadata": {},
   "source": [
    "### Training Data Exploration\n",
    "\n",
    "##### First things first, let's check our parent working directory like so:"
   ]
  },
  {
   "cell_type": "code",
   "execution_count": 1,
   "metadata": {
    "collapsed": false
   },
   "outputs": [
    {
     "data": {
      "text/plain": [
       "u'/home/ubuntu/nbs'"
      ]
     },
     "execution_count": 1,
     "metadata": {},
     "output_type": "execute_result"
    }
   ],
   "source": [
    "%pwd"
   ]
  },
  {
   "cell_type": "markdown",
   "metadata": {},
   "source": [
    "#### Next, let's make a reference to the path where our data resides. I've chosen to define it as data_dir."
   ]
  },
  {
   "cell_type": "code",
   "execution_count": 2,
   "metadata": {
    "collapsed": true
   },
   "outputs": [],
   "source": [
    "import os, sys\n",
    "current_dir = os.getcwd()\n",
    "nb_dir = current_dir\n",
    "data_dir = current_dir + '/data/plankton/'"
   ]
  },
  {
   "cell_type": "markdown",
   "metadata": {},
   "source": [
    "#### The next step is to get our dependencies in order. We will need all the modules mentioned below to proceed further."
   ]
  },
  {
   "cell_type": "code",
   "execution_count": 3,
   "metadata": {
    "collapsed": true
   },
   "outputs": [],
   "source": [
    "# To carry out matrix manipulations.\n",
    "import numpy as np\n",
    "# To plot images and visualize data.\n",
    "from matplotlib import pyplot as plt\n",
    "# To access files that reside in similar paths effortlessly.\n",
    "from glob import glob\n",
    "# Importing the Python Imaging Library.\n",
    "import PIL\n",
    "# A PIL module that allows to open, rotate and display images.\n",
    "from PIL import Image\n",
    "# A PIL module that allows for performing image processing operations.\n",
    "from PIL import ImageOps\n",
    "# importing imshow to diplay images, imshow to save an image.\n",
    "from skimage.io import imread, imshow\n",
    "# importing color mapping from python.\n",
    "from pylab import cm\n",
    "\n",
    "# This allows us to view matplot lib plots in the jupyter notebook\n",
    "%matplotlib inline"
   ]
  },
  {
   "cell_type": "code",
   "execution_count": 4,
   "metadata": {
    "collapsed": false
   },
   "outputs": [
    {
     "name": "stdout",
     "output_type": "stream",
     "text": [
      "/home/ubuntu/nbs/data/plankton/train\n"
     ]
    }
   ],
   "source": [
    "%cd $data_dir/train"
   ]
  },
  {
   "cell_type": "code",
   "execution_count": 5,
   "metadata": {
    "collapsed": true
   },
   "outputs": [],
   "source": [
    "directory_names = os.listdir(data_dir+\"train\")"
   ]
  },
  {
   "cell_type": "code",
   "execution_count": 6,
   "metadata": {
    "collapsed": false
   },
   "outputs": [
    {
     "data": {
      "text/plain": [
       "['ctenophore_lobate',\n",
       " 'hydromedusae_typeD',\n",
       " 'hydromedusae_sideview_big',\n",
       " 'invertebrate_larvae_other_A',\n",
       " 'echinoderm_seacucumber_auricularia_larva']"
      ]
     },
     "execution_count": 6,
     "metadata": {},
     "output_type": "execute_result"
    }
   ],
   "source": [
    "# Here are the first five directory names\n",
    "directory_names[1:6]"
   ]
  },
  {
   "cell_type": "markdown",
   "metadata": {},
   "source": [
    "#### As you can deduce from the above code block , the directories are not arranged in alphabetical Order..."
   ]
  },
  {
   "cell_type": "code",
   "execution_count": 7,
   "metadata": {
    "collapsed": false
   },
   "outputs": [
    {
     "name": "stdout",
     "output_type": "stream",
     "text": [
      "There are 121 folders.\n"
     ]
    }
   ],
   "source": [
    "# The number of categries we are supposed to classify...\n",
    "print(\"There are {} folders.\").format(len(directory_names))"
   ]
  },
  {
   "cell_type": "code",
   "execution_count": 8,
   "metadata": {
    "collapsed": false
   },
   "outputs": [],
   "source": [
    "# The below will tell you how many files are there in all the folders combined.\n",
    "numberofImages = 0\n",
    "for folder in directory_names:\n",
    "    for fileNameDir in os.walk(os.path.join(data_dir+\"train\", folder)):\n",
    "        for fileName in fileNameDir[2]:\n",
    "             # Only read in the images\n",
    "            if fileName[-4:] != \".jpg\":\n",
    "              continue\n",
    "            numberofImages += 1\n",
    "\n",
    "# You should see There are a total of 30336 training images upon running this bit of code.\n",
    "print(\"There are a total of {} training images\").format(numberofImages)"
   ]
  },
  {
   "cell_type": "markdown",
   "metadata": {},
   "source": [
    "### Next, let us visualize some of the images from the training set..."
   ]
  },
  {
   "cell_type": "code",
   "execution_count": 9,
   "metadata": {
    "collapsed": false
   },
   "outputs": [],
   "source": [
    "# A very important thing to note is that upon running this block of code, you will find that the sizes of each image\n",
    "# is varying.\n",
    "for i in xrange(5):\n",
    "    example_file = glob.glob(os.path.join(data_dir+\"train\", directory_names[i],'*.jpg'))[8]\n",
    "    im = imread(example_file)\n",
    "    plt.imshow(im, cmap=cm.gray)\n",
    "    print(example_file)\n",
    "    plt.show()"
   ]
  }
 ],
 "metadata": {
  "anaconda-cloud": {},
  "kernelspec": {
   "display_name": "Python [conda root]",
   "language": "python",
   "name": "conda-root-py"
  },
  "language_info": {
   "codemirror_mode": {
    "name": "ipython",
    "version": 2
   },
   "file_extension": ".py",
   "mimetype": "text/x-python",
   "name": "python",
   "nbconvert_exporter": "python",
   "pygments_lexer": "ipython2",
   "version": "2.7.12"
  }
 },
 "nbformat": 4,
 "nbformat_minor": 1
}
